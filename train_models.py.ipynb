{
 "cells": [
  {
   "cell_type": "code",
   "execution_count": 1,
   "id": "df43b21f",
   "metadata": {},
   "outputs": [
    {
     "name": "stderr",
     "output_type": "stream",
     "text": [
      "Training models:   0%|          | 0/5 [00:00<?, ?it/s]"
     ]
    },
    {
     "name": "stdout",
     "output_type": "stream",
     "text": [
      "\n",
      "Training LogisticRegression\n",
      "\n",
      "LogisticRegression Classification Report:\n",
      "\n",
      "                                precision    recall  f1-score   support\n",
      "\n",
      "                       Healthy       0.85      0.86      0.86        81\n",
      "        Iron deficiency anemia       0.85      0.82      0.84        34\n",
      "                      Leukemia       1.00      0.20      0.33         5\n",
      "Leukemia with thrombocytopenia       1.00      0.33      0.50         3\n",
      "             Macrocytic anemia       0.00      0.00      0.00         1\n",
      " Normocytic hypochromic anemia       0.74      0.71      0.73        56\n",
      "Normocytic normochromic anemia       0.58      0.83      0.68        46\n",
      "       Other microcytic anemia       0.40      0.14      0.21        14\n",
      "              Thrombocytopenia       0.81      0.76      0.79        17\n",
      "\n",
      "                      accuracy                           0.75       257\n",
      "                     macro avg       0.69      0.52      0.55       257\n",
      "                  weighted avg       0.75      0.75      0.74       257\n",
      "\n"
     ]
    },
    {
     "name": "stderr",
     "output_type": "stream",
     "text": [
      "Training models:  20%|██        | 1/5 [00:00<00:01,  2.90it/s]"
     ]
    },
    {
     "name": "stdout",
     "output_type": "stream",
     "text": [
      "\n",
      "Training DecisionTree\n",
      "\n",
      "DecisionTree Classification Report:\n",
      "\n",
      "                                precision    recall  f1-score   support\n",
      "\n",
      "                       Healthy       1.00      1.00      1.00        81\n",
      "        Iron deficiency anemia       1.00      1.00      1.00        34\n",
      "                      Leukemia       1.00      1.00      1.00         5\n",
      "Leukemia with thrombocytopenia       0.60      1.00      0.75         3\n",
      "             Macrocytic anemia       1.00      1.00      1.00         1\n",
      " Normocytic hypochromic anemia       1.00      1.00      1.00        56\n",
      "Normocytic normochromic anemia       1.00      0.98      0.99        46\n",
      "       Other microcytic anemia       1.00      0.93      0.96        14\n",
      "              Thrombocytopenia       1.00      1.00      1.00        17\n",
      "\n",
      "                      accuracy                           0.99       257\n",
      "                     macro avg       0.96      0.99      0.97       257\n",
      "                  weighted avg       1.00      0.99      0.99       257\n",
      "\n"
     ]
    },
    {
     "name": "stderr",
     "output_type": "stream",
     "text": [
      "Training models:  40%|████      | 2/5 [00:00<00:01,  2.66it/s]"
     ]
    },
    {
     "name": "stdout",
     "output_type": "stream",
     "text": [
      "\n",
      "Training RandomForest\n",
      "\n",
      "RandomForest Classification Report:\n",
      "\n",
      "                                precision    recall  f1-score   support\n",
      "\n",
      "                       Healthy       0.99      0.98      0.98        81\n",
      "        Iron deficiency anemia       1.00      1.00      1.00        34\n",
      "                      Leukemia       1.00      0.80      0.89         5\n",
      "Leukemia with thrombocytopenia       1.00      1.00      1.00         3\n",
      "             Macrocytic anemia       0.00      0.00      0.00         1\n",
      " Normocytic hypochromic anemia       1.00      1.00      1.00        56\n",
      "Normocytic normochromic anemia       0.98      1.00      0.99        46\n",
      "       Other microcytic anemia       1.00      1.00      1.00        14\n",
      "              Thrombocytopenia       0.89      1.00      0.94        17\n",
      "\n",
      "                      accuracy                           0.98       257\n",
      "                     macro avg       0.87      0.86      0.87       257\n",
      "                  weighted avg       0.98      0.98      0.98       257\n",
      "\n"
     ]
    },
    {
     "name": "stderr",
     "output_type": "stream",
     "text": [
      "Training models:  60%|██████    | 3/5 [00:01<00:01,  1.73it/s]"
     ]
    },
    {
     "name": "stdout",
     "output_type": "stream",
     "text": [
      "\n",
      "Training SVC\n",
      "\n",
      "SVC Classification Report:\n",
      "\n",
      "                                precision    recall  f1-score   support\n",
      "\n",
      "                       Healthy       0.91      0.90      0.91        81\n",
      "        Iron deficiency anemia       0.90      0.76      0.83        34\n",
      "                      Leukemia       0.33      0.20      0.25         5\n",
      "Leukemia with thrombocytopenia       0.00      0.00      0.00         3\n",
      "             Macrocytic anemia       0.00      0.00      0.00         1\n",
      " Normocytic hypochromic anemia       0.66      0.79      0.72        56\n",
      "Normocytic normochromic anemia       0.58      0.78      0.67        46\n",
      "       Other microcytic anemia       0.00      0.00      0.00        14\n",
      "              Thrombocytopenia       0.81      0.76      0.79        17\n",
      "\n",
      "                      accuracy                           0.75       257\n",
      "                     macro avg       0.47      0.47      0.46       257\n",
      "                  weighted avg       0.71      0.75      0.73       257\n",
      "\n"
     ]
    },
    {
     "name": "stderr",
     "output_type": "stream",
     "text": [
      "Training models:  80%|████████  | 4/5 [00:02<00:00,  1.71it/s]"
     ]
    },
    {
     "name": "stdout",
     "output_type": "stream",
     "text": [
      "\n",
      "Training KNN\n",
      "\n",
      "KNN Classification Report:\n",
      "\n",
      "                                precision    recall  f1-score   support\n",
      "\n",
      "                       Healthy       0.78      0.94      0.85        81\n",
      "        Iron deficiency anemia       0.70      0.68      0.69        34\n",
      "                      Leukemia       0.00      0.00      0.00         5\n",
      "Leukemia with thrombocytopenia       0.00      0.00      0.00         3\n",
      "             Macrocytic anemia       0.00      0.00      0.00         1\n",
      " Normocytic hypochromic anemia       0.61      0.68      0.64        56\n",
      "Normocytic normochromic anemia       0.74      0.70      0.72        46\n",
      "       Other microcytic anemia       0.60      0.43      0.50        14\n",
      "              Thrombocytopenia       1.00      0.53      0.69        17\n",
      "\n",
      "                      accuracy                           0.72       257\n",
      "                     macro avg       0.49      0.44      0.46       257\n",
      "                  weighted avg       0.70      0.72      0.70       257\n",
      "\n"
     ]
    },
    {
     "name": "stderr",
     "output_type": "stream",
     "text": [
      "Training models: 100%|██████████| 5/5 [00:02<00:00,  2.00it/s]\n"
     ]
    }
   ],
   "source": [
    "import os\n",
    "import pandas as pd\n",
    "import joblib\n",
    "import matplotlib.pyplot as plt\n",
    "import seaborn as sns\n",
    "from sklearn.model_selection import train_test_split\n",
    "from sklearn.preprocessing import StandardScaler, LabelEncoder\n",
    "from sklearn.linear_model import LogisticRegression\n",
    "from sklearn.tree import DecisionTreeClassifier\n",
    "from sklearn.ensemble import RandomForestClassifier\n",
    "from sklearn.svm import SVC\n",
    "from sklearn.neighbors import KNeighborsClassifier\n",
    "from sklearn.metrics import classification_report, confusion_matrix\n",
    "from tqdm import tqdm\n",
    "\n",
    "# Create folders\n",
    "os.makedirs('models', exist_ok=True)\n",
    "os.makedirs('confusion_matrices', exist_ok=True)\n",
    "\n",
    "# Load dataset\n",
    "df = pd.read_csv('data.csv')\n",
    "\n",
    "X = df.drop('Diagnosis', axis=1)\n",
    "y = df['Diagnosis']\n",
    "\n",
    "# Encode labels\n",
    "label_encoder = LabelEncoder()\n",
    "y = label_encoder.fit_transform(y)\n",
    "joblib.dump(label_encoder, 'models/label_encoder.pkl')\n",
    "\n",
    "# Split & scale\n",
    "X_train, X_test, y_train, y_test = train_test_split(X, y, test_size=0.2, random_state=42)\n",
    "scaler = StandardScaler()\n",
    "X_train_scaled = scaler.fit_transform(X_train)\n",
    "X_test_scaled = scaler.transform(X_test)\n",
    "joblib.dump(scaler, 'models/scaler.pkl')\n",
    "\n",
    "# Models\n",
    "models = {\n",
    "    \"LogisticRegression\": LogisticRegression(max_iter=1000),\n",
    "    \"DecisionTree\": DecisionTreeClassifier(),\n",
    "    \"RandomForest\": RandomForestClassifier(),\n",
    "    \"SVC\": SVC(probability=True),\n",
    "    \"KNN\": KNeighborsClassifier()\n",
    "}\n",
    "\n",
    "# Training\n",
    "for name, model in tqdm(models.items(), desc=\"Training models\"):\n",
    "    print(f\"\\nTraining {name}\")\n",
    "    model.fit(X_train_scaled, y_train)\n",
    "    joblib.dump(model, f'models/{name}.pkl')\n",
    "\n",
    "    y_pred = model.predict(X_test_scaled)\n",
    "\n",
    "    print(f\"\\n{name} Classification Report:\\n\")\n",
    "    print(classification_report(y_test, y_pred, target_names=label_encoder.classes_, zero_division=0))\n",
    "\n",
    "    cm = confusion_matrix(y_test, y_pred)\n",
    "    plt.figure(figsize=(8, 6))\n",
    "    sns.heatmap(cm, annot=True, fmt='d', cmap='Blues',\n",
    "                xticklabels=label_encoder.classes_,\n",
    "                yticklabels=label_encoder.classes_)\n",
    "    plt.title(f'{name} Confusion Matrix')\n",
    "    plt.xlabel('Predicted')\n",
    "    plt.ylabel('Actual')\n",
    "    plt.xticks(rotation=45)\n",
    "    plt.tight_layout()\n",
    "    plt.savefig(f'confusion_matrices/{name}_confusion_matrix.png')\n",
    "    plt.close()"
   ]
  }
 ],
 "metadata": {
  "kernelspec": {
   "display_name": "Python 3",
   "language": "python",
   "name": "python3"
  },
  "language_info": {
   "codemirror_mode": {
    "name": "ipython",
    "version": 3
   },
   "file_extension": ".py",
   "mimetype": "text/x-python",
   "name": "python",
   "nbconvert_exporter": "python",
   "pygments_lexer": "ipython3",
   "version": "3.13.2"
  }
 },
 "nbformat": 4,
 "nbformat_minor": 5
}
